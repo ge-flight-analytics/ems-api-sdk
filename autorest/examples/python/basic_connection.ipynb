{
 "cells": [
  {
   "cell_type": "code",
   "execution_count": 4,
   "metadata": {},
   "outputs": [],
   "source": [
    "import sys\n",
    "sys.path.append(\"./../../python\")\n",
    "from emsapi import emsapi\n",
    "import msrest"
   ]
  },
  {
   "cell_type": "code",
   "execution_count": null,
   "metadata": {},
   "outputs": [],
   "source": [
    "import getpass\n",
    "efoqa_user = input('Enter your EFOQA username: ')\n",
    "efoqa_pass = getpass.getpass(prompt = 'Enter your EFOQA password: ')"
   ]
  },
  {
   "cell_type": "code",
   "execution_count": null,
   "metadata": {},
   "outputs": [],
   "source": [
    "'''This tests to make sure that the proxy is set correctly'''\n",
    "import requests\n",
    "res = requests.get(\"http://google.com\")\n",
    "print(res)"
   ]
  },
  {
   "cell_type": "code",
   "execution_count": 6,
   "metadata": {},
   "outputs": [],
   "source": [
    "from msrest import authentication\n",
    "session = authentication.BasicAuthentication(efoqa_user, efoqa_pass)\n",
    "url = \"https://ems.efoqa.com/api/\"\n",
    "myapi = emsapi(session, url)"
   ]
  },
  {
   "cell_type": "code",
   "execution_count": null,
   "metadata": {
    "scrolled": false
   },
   "outputs": [],
   "source": [
    "systems = myapi.ems_system.get_ems_systems()\n",
    "print(systems)"
   ]
  }
 ],
 "metadata": {
  "kernelspec": {
   "display_name": "Python 3",
   "language": "python",
   "name": "python3"
  },
  "language_info": {
   "codemirror_mode": {
    "name": "ipython",
    "version": 3
   },
   "file_extension": ".py",
   "mimetype": "text/x-python",
   "name": "python",
   "nbconvert_exporter": "python",
   "pygments_lexer": "ipython3",
   "version": "3.7.1"
  }
 },
 "nbformat": 4,
 "nbformat_minor": 2
}
