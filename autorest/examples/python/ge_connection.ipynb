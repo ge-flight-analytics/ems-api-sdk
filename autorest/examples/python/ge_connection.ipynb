{
 "cells": [
  {
   "cell_type": "markdown",
   "metadata": {},
   "source": [
    "## Overview\n",
    "\n",
    "This script will connect to the EFOQA EMS API URL from a GE CoreLoad machine. \n",
    "\n",
    "In order to do this, we will need to set the proxies for the jupyter environment. See [Readme.md](https://github.com/ge-flight-analytics/ems-api-sdk/autorest) in the autorest section of the ems-api-sdk for more information.\n",
    "\n",
    "In addition to the proxies which tell the browser how to route to the ems api url, we also need to set SSL certificates on the calls themselves. This step is required if the machine is connected to F5 or on the 3.x network. Actually, I'm not sure of all the cases that this is required - i.e. it may be for any call made from a coreload machine.\n",
    "\n",
    "In order to set the SSL certificate, the only way I could figure is to download the certificate from the GE certificate store. This [yammer thread](https://www.yammer.com/ge.com/#/Threads/show?threadId=1146395629) was helpful in figuring out what needed to be done."
   ]
  },
  {
   "cell_type": "markdown",
   "metadata": {},
   "source": [
    "## Import dependencies"
   ]
  },
  {
   "cell_type": "code",
   "execution_count": null,
   "metadata": {},
   "outputs": [],
   "source": [
    "# Import all the module dependencies of this script\n",
    "import json\n",
    "import pandas\n",
    "import getpass\n",
    "import sys\n",
    "import msrest\n",
    "import requests\n",
    "\n",
    "# Import the python autorest wrappers\n",
    "sys.path.append(\"./../../python\")\n",
    "from emsapi import emsapi"
   ]
  },
  {
   "cell_type": "markdown",
   "metadata": {},
   "source": [
    "### System Configuration / Constants"
   ]
  },
  {
   "cell_type": "code",
   "execution_count": null,
   "metadata": {},
   "outputs": [],
   "source": [
    "# The URL of EFOQA EMS API\n",
    "emsApiUrl = \"https://ems.efoqa.com/api/\"\n",
    "\n",
    "# The relative path to the SSL certificate.\n",
    "certificatePath = './GE_External_Certificate2.pem'"
   ]
  },
  {
   "cell_type": "markdown",
   "metadata": {},
   "source": [
    "### Gather User Credentials\n",
    "One day we could pull them from a credential store or key vault."
   ]
  },
  {
   "cell_type": "code",
   "execution_count": null,
   "metadata": {},
   "outputs": [],
   "source": [
    "# Query the user for the credentials for the ems.efoqa.com website.\n",
    "efoqa_user = input('Enter your EFOQA username: ')\n",
    "efoqa_pass = getpass.getpass(prompt = 'Enter your EFOQA password: ')"
   ]
  },
  {
   "cell_type": "markdown",
   "metadata": {},
   "source": [
    "### Optional: Test Proxy and Network Connection"
   ]
  },
  {
   "cell_type": "code",
   "execution_count": null,
   "metadata": {},
   "outputs": [],
   "source": [
    "# Optional: Test to ensure that the proxy is set correctly\n",
    "\n",
    "# This step does not use any of the autorest wrappers or EMS API functionality. \n",
    "# If this cell fails to execute, then most likely the proxy is not set up correctly in Jupyter.\n",
    "testProxyResponse = requests.get(\"http://google.com\")\n",
    "print( \"Proxy test is a \" + (\"tremendous success\" if testProxyResponse.ok else \"horrible failure\") )"
   ]
  },
  {
   "cell_type": "markdown",
   "metadata": {},
   "source": [
    "### API Session set up"
   ]
  },
  {
   "cell_type": "code",
   "execution_count": null,
   "metadata": {},
   "outputs": [],
   "source": [
    "# Authenticates with EMS API using the credentials entered above. \n",
    "\n",
    "# This step will call into api and retrieve a bearer token which will be used in subsequent calls.\n",
    "authorizationUrl = emsApiUrl + \"token\"\n",
    "body = \"grant_type=password&username=\" + efoqa_user +\"&password=\" + efoqa_pass\n",
    "authorizationResponse = requests.post(authorizationUrl, body, verify=certificatePath)\n",
    "\n",
    "# Describe the results of the test\n",
    "if authorizationResponse.ok:\n",
    "    print(\"Successfully authenticated with the EMS API and retrieved a bearer token.\")\n",
    "else:\n",
    "    print(\"Unable to authenticate with the EMS API.\")\n",
    "    \n",
    "# Set up the autorest session with the basic authentication type using bearer token.\n",
    "from msrest import authentication\n",
    "session = authentication.BasicTokenAuthentication(json.loads(authorizationResponse.text))\n",
    "myapi = emsapi(session, emsApiUrl)"
   ]
  },
  {
   "cell_type": "markdown",
   "metadata": {},
   "source": [
    "### Query API for EMS Systems"
   ]
  },
  {
   "cell_type": "code",
   "execution_count": null,
   "metadata": {},
   "outputs": [],
   "source": [
    "# Print the systems the user has access to in order to demonstrate the API.\n",
    "systems = myapi.ems_system.get_ems_systems(verify=certificatePath)\n",
    "\n",
    "# Create a list out of the systems list that contains only the information we want.\n",
    "sysList = list(map(lambda system: [system.id, system.name, system.description], systems))\n",
    "df = pandas.DataFrame(sysList,columns=['id', 'name', 'description'])\n",
    "\n",
    "print(\"You have access to the following systems:\")\n",
    "df"
   ]
  },
  {
   "cell_type": "markdown",
   "metadata": {},
   "source": [
    "### Query API for time-series data\n",
    "\n",
    "Let's pull a little bit of data. We'll pick 'baro-corrected altitude' for a particular flight on the demo system. We'll extract 100 points evenly spread through the entire flight.\n",
    "\n",
    "The altitudeId value below was obtained by using the REST explorer to search for the parameter on EMS Online https://ems.efoqa.com/Docs/Rest/Explorer\n",
    "\n",
    "The output of this block of code should be an altitude chart that looks familiar."
   ]
  },
  {
   "cell_type": "code",
   "execution_count": null,
   "metadata": {},
   "outputs": [],
   "source": [
    "# Baro-corrected altitude\n",
    "altitudeId = \"H4sIAAAAAAAEAG2Q0QuCMBDG34P+B/HdbZVUiApBPQT2kgi9rrn0YM7aZvbnN5JVUvdwfHD34/vu4iPXrbjTs+D7kksDF+DKezRC6ggSvzbmGmHc9z3qF6hVFZ4TMsOnQ5azmjc0AKkNlYz7A/Mm9GusUUkNZa00ijLj+BCTFd6UgApF/XQ68bx4SMHVvkyd1GjX6KytgFER46+FEZBfObOZ2db6eBBJEIlvVGfz4P+LhYRbZ29NyVCzgJD1MgitDIhrrj6+P/h04obj36VPLpuOeVIBAAA=\"\n",
    "# A flight that is known to exist\n",
    "flightId = 190\n",
    "# EMS7 - the demo system.\n",
    "emsId = 5\n",
    "# Pull out altitude with 100 samples through the file.\n",
    "query = {\n",
    "    \"select\": [\n",
    "    {\n",
    "      \"analyticId\": altitudeId\n",
    "    }\n",
    "  ],\n",
    "  \"size\": 100\n",
    "}\n",
    "\n",
    "# Execute the API call.\n",
    "altitude = myapi.analytic.get_query_results(emsId, flightId, query, verify=certificatePath)\n",
    "# Offsets accessible using altitude.offsets\n",
    "\n",
    "# Create a new data frame with the altitude in it.\n",
    "altitudeDataFrame = pandas.DataFrame();\n",
    "altitudeDataFrame[\"Altitude\"] = altitude.results[0].values\n",
    "line = altitudeDataFrame.plot.line()"
   ]
  },
  {
   "cell_type": "code",
   "execution_count": null,
   "metadata": {},
   "outputs": [],
   "source": []
  }
 ],
 "metadata": {
  "kernelspec": {
   "display_name": "Python 3",
   "language": "python",
   "name": "python3"
  },
  "language_info": {
   "codemirror_mode": {
    "name": "ipython",
    "version": 3
   },
   "file_extension": ".py",
   "mimetype": "text/x-python",
   "name": "python",
   "nbconvert_exporter": "python",
   "pygments_lexer": "ipython3",
   "version": "3.7.2"
  }
 },
 "nbformat": 4,
 "nbformat_minor": 2
}
